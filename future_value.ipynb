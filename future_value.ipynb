{
 "cells": [
  {
   "cell_type": "code",
   "execution_count": 32,
   "metadata": {},
   "outputs": [],
   "source": [
    "import numpy as np"
   ]
  },
  {
   "cell_type": "markdown",
   "metadata": {},
   "source": [
    "# Formulas"
   ]
  },
  {
   "cell_type": "markdown",
   "metadata": {},
   "source": [
    "### 1. Future Value\n",
    "\n",
    "$VF = VP(1+i) ^{n}$\n",
    "\n",
    "Where:\n",
    "\n",
    "VF = future value  \n",
    "VP = present value   \n",
    "i = period interest  \n",
    "n = total periods"
   ]
  },
  {
   "cell_type": "markdown",
   "metadata": {},
   "source": [
    "### 2. Present Value\n",
    "\n",
    "$VF = VP(1+i)^{n}$\n",
    "\n",
    "$\\Downarrow$\n",
    "\n",
    "$\\frac{VF}{(1+i)^{n}} = VP$\n",
    "\n",
    "$\\Downarrow$\n",
    "\n",
    "$VP=\\frac{VF}{(1+i)^{n}}$\n",
    "\n"
   ]
  },
  {
   "cell_type": "markdown",
   "metadata": {},
   "source": [
    "### 3. Period interest\n",
    "\n",
    "$VF = VP(1+i)^{n}$\n",
    "\n",
    "$\\Downarrow$\n",
    "\n",
    "$\\frac{VF}{VP} = (1+i)^{n}$  \n",
    "\n",
    "$\\Downarrow$\n",
    "\n",
    "\n",
    "$\\sqrt[n]{ \\frac{VF}{VP}}=\\sqrt[n]{ (1+i)^{n}}$ The same as $\\Rightarrow$ $ (\\frac{VF}{VP})^{\\frac{1}{n}}  = ((1+i)^{n})^{\\frac{1}{n}} $\n",
    "\n",
    "$\\Downarrow$\n",
    "\n",
    "$(\\frac{VF}{VP})^{\\frac{1}{n}}  = 1+i$ The same as $\\Rightarrow$ $1+i = (\\frac{VF}{VP})^{\\frac{1}{n}}$\n",
    "\n",
    "$\\Downarrow$\n",
    "\n",
    "$i = (\\frac{VF}{VP})^{\\frac{1}{n}} - 1$\n"
   ]
  },
  {
   "cell_type": "markdown",
   "metadata": {},
   "source": [
    "### 4. Total periods\n",
    "\n",
    "$VF = VP(1+i)^{n}$\n",
    "\n",
    "$\\Downarrow$\n",
    "\n",
    "$\\frac{VF}{VP} = (1+i)^{n}$  \n",
    "\n",
    "$\\Downarrow$\n",
    "\n",
    "$ln(\\frac{VF}{VP}) = ln((1+i)^{n})$  The same as $\\Rightarrow$ $ln(\\frac{VF}{VP}) = ln(1+i) * n$\n",
    "\n",
    "$\\Downarrow$\n",
    "\n",
    "$n=\\frac{ln(\\frac{VF}{VP})}{ln(1+i)}$\n",
    "\n"
   ]
  },
  {
   "cell_type": "markdown",
   "metadata": {},
   "source": [
    "# Trying Example"
   ]
  },
  {
   "cell_type": "code",
   "execution_count": 27,
   "metadata": {},
   "outputs": [],
   "source": [
    "VP_example = 100\n",
    "i_example = 1/100\n",
    "n_example = 10 "
   ]
  },
  {
   "cell_type": "code",
   "execution_count": 28,
   "metadata": {},
   "outputs": [
    {
     "data": {
      "text/plain": [
       "110.5"
      ]
     },
     "execution_count": 28,
     "metadata": {},
     "output_type": "execute_result"
    }
   ],
   "source": [
    "\n",
    "VF_example = round((VP_example * (1 + i_example)**n_example), 1)\n",
    "VF_example"
   ]
  },
  {
   "cell_type": "code",
   "execution_count": 29,
   "metadata": {},
   "outputs": [
    {
     "data": {
      "text/plain": [
       "100.0"
      ]
     },
     "execution_count": 29,
     "metadata": {},
     "output_type": "execute_result"
    }
   ],
   "source": [
    "VP_test = round((VF_example / (1 + i_example)**n_example), 1)\n",
    "VP_test"
   ]
  },
  {
   "cell_type": "code",
   "execution_count": 30,
   "metadata": {},
   "outputs": [
    {
     "data": {
      "text/plain": [
       "0.01"
      ]
     },
     "execution_count": 30,
     "metadata": {},
     "output_type": "execute_result"
    }
   ],
   "source": [
    "i_test = round(((VF_example/VP_example)**(1/n_example)  - 1),3)\n",
    "i_test"
   ]
  },
  {
   "cell_type": "code",
   "execution_count": 31,
   "metadata": {},
   "outputs": [
    {
     "data": {
      "text/plain": [
       "10.0"
      ]
     },
     "execution_count": 31,
     "metadata": {},
     "output_type": "execute_result"
    }
   ],
   "source": [
    "n_test = round((np.log(VF_example/VP_example) / np.log(1+i_example)), 1)\n",
    "n_test"
   ]
  }
 ],
 "metadata": {
  "interpreter": {
   "hash": "916dbcbb3f70747c44a77c7bcd40155683ae19c65e1c03b4aa3499c5328201f1"
  },
  "kernelspec": {
   "display_name": "Python 3.8.5 64-bit",
   "name": "python3"
  },
  "language_info": {
   "codemirror_mode": {
    "name": "ipython",
    "version": 3
   },
   "file_extension": ".py",
   "mimetype": "text/x-python",
   "name": "python",
   "nbconvert_exporter": "python",
   "pygments_lexer": "ipython3",
   "version": "3.8.5"
  },
  "orig_nbformat": 4
 },
 "nbformat": 4,
 "nbformat_minor": 2
}
