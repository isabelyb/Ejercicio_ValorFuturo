{
 "cells": [
  {
   "cell_type": "markdown",
   "metadata": {},
   "source": [
    "# Formulas"
   ]
  },
  {
   "cell_type": "markdown",
   "metadata": {},
   "source": [
    "### 1. Future Value\n",
    "\n",
    "$VF = VP(1+i) ^{n}$\n",
    "\n",
    "Where:\n",
    "\n",
    "VF = future value  \n",
    "VP = present value   \n",
    "i = period interest  \n",
    "n = total periods"
   ]
  },
  {
   "cell_type": "markdown",
   "metadata": {},
   "source": [
    "### 2. Present Value\n",
    "\n",
    "$VF = VP(1+i)^{n}$\n",
    "\n",
    "$\\Downarrow$\n",
    "\n",
    "$\\frac{VF}{(1+i)^{n}} = VP$\n",
    "\n",
    "$\\Downarrow$\n",
    "\n",
    "$VP=\\frac{VF}{(1+i)^{n}}$\n",
    "\n"
   ]
  },
  {
   "cell_type": "markdown",
   "metadata": {},
   "source": [
    "### 3. Period interest\n",
    "\n",
    "$VF = VP(1+i)^{n}$\n",
    "\n",
    "$\\Downarrow$\n",
    "\n",
    "$\\frac{VF}{VP} = (1+i)^{n}$  \n",
    "\n",
    "$\\Downarrow$\n",
    "\n",
    "\n",
    "$\\sqrt[n]{ \\frac{VF}{VP}}=\\sqrt[n]{ (1+i)^{n}}$ The same as $\\Rightarrow$ $ (\\frac{VF}{VP})^{\\frac{1}{n}}  = ((1+i)^{n})^{\\frac{1}{n}} $\n",
    "\n",
    "$\\Downarrow$\n",
    "\n",
    "$(\\frac{VF}{VP})^{\\frac{1}{n}}  = 1+i$ The same as $\\Rightarrow$ $1+i = (\\frac{VF}{VP})^{\\frac{1}{n}}$\n",
    "\n",
    "$\\Downarrow$\n",
    "\n",
    "$i = (\\frac{VF}{VP})^{\\frac{1}{n}} - 1$\n"
   ]
  },
  {
   "cell_type": "markdown",
   "metadata": {},
   "source": [
    "### 4. Total periods\n",
    "\n",
    "$VF = VP(1+i)^{n}$\n",
    "\n",
    "$\\Downarrow$\n",
    "\n",
    "$\\frac{VF}{VP} = (1+i)^{n}$  \n",
    "\n",
    "$\\Downarrow$\n",
    "\n",
    "$ln(\\frac{VF}{VP}) = ln((1+i)^{n})$  The same as $\\Rightarrow$ $ln(\\frac{VF}{VP}) = ln(1+i) * n$\n",
    "\n",
    "$\\Downarrow$\n",
    "\n",
    "\n",
    "\n"
   ]
  },
  {
   "cell_type": "markdown",
   "metadata": {},
   "source": [
    "# Trying Example"
   ]
  },
  {
   "cell_type": "code",
   "execution_count": 4,
   "metadata": {},
   "outputs": [],
   "source": [
    "VP_example = 100\n",
    "i_example = 1/100\n",
    "n_example = 10 "
   ]
  },
  {
   "cell_type": "code",
   "execution_count": 12,
   "metadata": {},
   "outputs": [
    {
     "data": {
      "text/plain": [
       "110.5"
      ]
     },
     "execution_count": 12,
     "metadata": {},
     "output_type": "execute_result"
    }
   ],
   "source": [
    "\n",
    "VF_example = round((VP_example * (1 + i_example)**n_example), 1)\n",
    "VF_example"
   ]
  },
  {
   "cell_type": "code",
   "execution_count": 9,
   "metadata": {},
   "outputs": [
    {
     "data": {
      "text/plain": [
       "110.5"
      ]
     },
     "execution_count": 9,
     "metadata": {},
     "output_type": "execute_result"
    }
   ],
   "source": [
    "VF_example"
   ]
  }
 ],
 "metadata": {
  "interpreter": {
   "hash": "916dbcbb3f70747c44a77c7bcd40155683ae19c65e1c03b4aa3499c5328201f1"
  },
  "kernelspec": {
   "display_name": "Python 3.8.5 64-bit",
   "name": "python3"
  },
  "language_info": {
   "codemirror_mode": {
    "name": "ipython",
    "version": 3
   },
   "file_extension": ".py",
   "mimetype": "text/x-python",
   "name": "python",
   "nbconvert_exporter": "python",
   "pygments_lexer": "ipython3",
   "version": "3.8.5"
  },
  "orig_nbformat": 4
 },
 "nbformat": 4,
 "nbformat_minor": 2
}
